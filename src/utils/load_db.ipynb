{
 "cells": [
  {
   "cell_type": "markdown",
   "id": "79500f21-c5c5-4155-a579-72ac61105a53",
   "metadata": {},
   "source": [
    "# Load Dental Intraoral X-ray Dataset\n",
    "\n",
    "## Introduction\n",
    "    \n",
    "    The objective of this notebook is to load the dataset and understand what diagnostic models can be developed.\n"
   ]
  },
  {
   "cell_type": "code",
   "execution_count": 1,
   "id": "200dcc06-35a0-447b-8b7c-b499a6fed3a3",
   "metadata": {},
   "outputs": [],
   "source": [
    "# import relevant modules\n",
    "import pandas as pd\n",
    "import numpy as np\n",
    "import cv2\n",
    "import json"
   ]
  },
  {
   "cell_type": "code",
   "execution_count": 2,
   "id": "ba788c3f-8231-486b-bfcc-32835390deca",
   "metadata": {},
   "outputs": [],
   "source": [
    "json_file_path = 'coco_dataset.json'\n",
    "data = pd.read_json(json_file_path, lines = True)"
   ]
  },
  {
   "cell_type": "markdown",
   "id": "3c775c23-86a8-4443-bc58-98b830d36a52",
   "metadata": {},
   "source": [
    "The following article talks about how to optimally store datasets : https://www.reddit.com/r/MachineLearning/comments/oe374e/d_best_practices_of_storing_annotations_for_image/\n",
    "\n",
    "\n",
    "### Importance of Using a Relational Database for Dental X-ray Datasets\n",
    "\n",
    "Relational databases are critical for managing dental X-ray datasets due to their ability to maintain data integrity and consistency, which is essential in healthcare settings. They efficiently handle large, growing datasets and manage complex relationships between different types of data, such as patient records and treatment plans. Additionally, relational databases support compliance with regulatory standards, ensuring that sensitive data is stored securely and can be retrieved quickly for clinical decision-making.\n",
    "\n",
    "First the data strucure needs to be understood to optimally store the dataset."
   ]
  },
  {
   "cell_type": "code",
   "execution_count": 3,
   "id": "09fecc8a-6e0d-42a5-a8bb-ad3853bf35dc",
   "metadata": {},
   "outputs": [
    {
     "data": {
      "text/html": [
       "<div>\n",
       "<style scoped>\n",
       "    .dataframe tbody tr th:only-of-type {\n",
       "        vertical-align: middle;\n",
       "    }\n",
       "\n",
       "    .dataframe tbody tr th {\n",
       "        vertical-align: top;\n",
       "    }\n",
       "\n",
       "    .dataframe thead th {\n",
       "        text-align: right;\n",
       "    }\n",
       "</style>\n",
       "<table border=\"1\" class=\"dataframe\">\n",
       "  <thead>\n",
       "    <tr style=\"text-align: right;\">\n",
       "      <th></th>\n",
       "      <th>data_row</th>\n",
       "      <th>media_attributes</th>\n",
       "      <th>metadata_fields</th>\n",
       "      <th>projects</th>\n",
       "    </tr>\n",
       "  </thead>\n",
       "  <tbody>\n",
       "    <tr>\n",
       "      <th>0</th>\n",
       "      <td>{'id': 'cl9zlwmzg12ma08b42nq122tp', 'external_...</td>\n",
       "      <td>{'height': 276, 'width': 183, 'mime_type': 'im...</td>\n",
       "      <td>[]</td>\n",
       "      <td>{'cl9fgc6m14sb907z4blr37mjz': {'name': 'IOP an...</td>\n",
       "    </tr>\n",
       "    <tr>\n",
       "      <th>1</th>\n",
       "      <td>{'id': 'cl9zlwmzg12me08b4hhli1zd8', 'external_...</td>\n",
       "      <td>{'height': 197, 'width': 256, 'mime_type': 'im...</td>\n",
       "      <td>[]</td>\n",
       "      <td>{'cl9fgc6m14sb907z4blr37mjz': {'name': 'IOP an...</td>\n",
       "    </tr>\n",
       "    <tr>\n",
       "      <th>2</th>\n",
       "      <td>{'id': 'cl9zlwmzg12mi08b41wsm2e70', 'external_...</td>\n",
       "      <td>{'height': 265, 'width': 190, 'mime_type': 'im...</td>\n",
       "      <td>[]</td>\n",
       "      <td>{'cl9fgc6m14sb907z4blr37mjz': {'name': 'IOP an...</td>\n",
       "    </tr>\n",
       "    <tr>\n",
       "      <th>3</th>\n",
       "      <td>{'id': 'cl9zlwmzg12mm08b49ioi3s66', 'external_...</td>\n",
       "      <td>{'height': 194, 'width': 259, 'mime_type': 'im...</td>\n",
       "      <td>[]</td>\n",
       "      <td>{'cl9fgc6m14sb907z4blr37mjz': {'name': 'IOP an...</td>\n",
       "    </tr>\n",
       "    <tr>\n",
       "      <th>4</th>\n",
       "      <td>{'id': 'cl9zlwmzg12mq08b4eh1a4xxh', 'external_...</td>\n",
       "      <td>{'height': 255, 'width': 198, 'mime_type': 'im...</td>\n",
       "      <td>[]</td>\n",
       "      <td>{'cl9fgc6m14sb907z4blr37mjz': {'name': 'IOP an...</td>\n",
       "    </tr>\n",
       "  </tbody>\n",
       "</table>\n",
       "</div>"
      ],
      "text/plain": [
       "                                            data_row  \\\n",
       "0  {'id': 'cl9zlwmzg12ma08b42nq122tp', 'external_...   \n",
       "1  {'id': 'cl9zlwmzg12me08b4hhli1zd8', 'external_...   \n",
       "2  {'id': 'cl9zlwmzg12mi08b41wsm2e70', 'external_...   \n",
       "3  {'id': 'cl9zlwmzg12mm08b49ioi3s66', 'external_...   \n",
       "4  {'id': 'cl9zlwmzg12mq08b4eh1a4xxh', 'external_...   \n",
       "\n",
       "                                    media_attributes metadata_fields  \\\n",
       "0  {'height': 276, 'width': 183, 'mime_type': 'im...              []   \n",
       "1  {'height': 197, 'width': 256, 'mime_type': 'im...              []   \n",
       "2  {'height': 265, 'width': 190, 'mime_type': 'im...              []   \n",
       "3  {'height': 194, 'width': 259, 'mime_type': 'im...              []   \n",
       "4  {'height': 255, 'width': 198, 'mime_type': 'im...              []   \n",
       "\n",
       "                                            projects  \n",
       "0  {'cl9fgc6m14sb907z4blr37mjz': {'name': 'IOP an...  \n",
       "1  {'cl9fgc6m14sb907z4blr37mjz': {'name': 'IOP an...  \n",
       "2  {'cl9fgc6m14sb907z4blr37mjz': {'name': 'IOP an...  \n",
       "3  {'cl9fgc6m14sb907z4blr37mjz': {'name': 'IOP an...  \n",
       "4  {'cl9fgc6m14sb907z4blr37mjz': {'name': 'IOP an...  "
      ]
     },
     "execution_count": 3,
     "metadata": {},
     "output_type": "execute_result"
    }
   ],
   "source": [
    "data.head()"
   ]
  },
  {
   "cell_type": "code",
   "execution_count": 4,
   "id": "d1e43370-556e-457a-89cf-e47a8ca5bbc9",
   "metadata": {},
   "outputs": [
    {
     "data": {
      "text/plain": [
       "{'id': 'cl9zlwmzg12ma08b42nq122tp',\n",
       " 'external_id': \"IOP's/lopa_1_jpg_quality/IOPA (5874).jpg\",\n",
       " 'row_data': \"https://x-rays.s3.us-east-2.amazonaws.com/IOP's/lopa_1_jpg_quality/IOPA (5874).jpg\"}"
      ]
     },
     "execution_count": 4,
     "metadata": {},
     "output_type": "execute_result"
    }
   ],
   "source": [
    "data['data_row'][0]"
   ]
  },
  {
   "cell_type": "code",
   "execution_count": 5,
   "id": "6cb7c717-cb6b-47d8-957a-7aebbd674d65",
   "metadata": {},
   "outputs": [
    {
     "data": {
      "text/plain": [
       "{'height': 276, 'width': 183, 'mime_type': 'image/jpeg'}"
      ]
     },
     "execution_count": 5,
     "metadata": {},
     "output_type": "execute_result"
    }
   ],
   "source": [
    "data['media_attributes'][0]"
   ]
  },
  {
   "cell_type": "code",
   "execution_count": 6,
   "id": "0c729f21-0065-423a-8c2c-b2254afeed1e",
   "metadata": {},
   "outputs": [
    {
     "data": {
      "text/plain": [
       "{'cl9fgc6m14sb907z4blr37mjz': {'name': 'IOP annotation',\n",
       "  'labels': [{'label_kind': 'Default',\n",
       "    'version': '1.0.0',\n",
       "    'id': 'clblqrgxw01wg07z68iu9bas8',\n",
       "    'annotations': {'objects': [{'feature_id': 'clchi2m210001356j4rfwpipu',\n",
       "       'feature_schema_id': 'clbd960k80mk608242eko19ww',\n",
       "       'name': 'Bone Loss',\n",
       "       'value': 'bone_loss',\n",
       "       'annotation_kind': 'ImageSegmentationMask',\n",
       "       'classifications': [],\n",
       "       'mask': {'url': 'https://api.labelbox.com/api/v1/projects/cl9fgc6m14sb907z4blr37mjz/annotations/clchi2m210001356j4rfwpipu/mask'}},\n",
       "      {'feature_id': 'clchi4baa0005356j9jj7ydqr',\n",
       "       'feature_schema_id': 'clbd960k80mk608242eko19ww',\n",
       "       'name': 'Bone Loss',\n",
       "       'value': 'bone_loss',\n",
       "       'annotation_kind': 'ImageSegmentationMask',\n",
       "       'classifications': [],\n",
       "       'mask': {'url': 'https://api.labelbox.com/api/v1/projects/cl9fgc6m14sb907z4blr37mjz/annotations/clchi4baa0005356j9jj7ydqr/mask'}}],\n",
       "     'classifications': [{'feature_id': 'clblqt101000b356imnm3ct0q',\n",
       "       'feature_schema_id': 'ckzjp5m453iuo0z6m33j1eic6',\n",
       "       'name': 'Type of Dentition',\n",
       "       'value': 'type_of_dentition',\n",
       "       'dropdown_answer': {'feature_id': 'clblqt101000a356ij4hbw8nm',\n",
       "        'feature_schema_id': 'ckzjp5m453iup0z6mcdmuesph',\n",
       "        'name': 'Adult',\n",
       "        'value': 'adult',\n",
       "        'classifications': []}}],\n",
       "     'relationships': []}}],\n",
       "  'project_tags': [{'id': 'clenefuk600010ux74j069807',\n",
       "    'organization_id': 'ckzwxv07u0ukx0za6h42m9fk8',\n",
       "    'text': 'Migrated',\n",
       "    'color': '008856',\n",
       "    'created_at': '2023-02-27T22:36:14.000+00:00',\n",
       "    'updated_at': '2023-02-27T22:36:14.000+00:00',\n",
       "    'type': 'Migration'}]}}"
      ]
     },
     "execution_count": 6,
     "metadata": {},
     "output_type": "execute_result"
    }
   ],
   "source": [
    "data['projects'][0]"
   ]
  },
  {
   "cell_type": "code",
   "execution_count": 7,
   "id": "e61aa330-d1f1-43d6-9ce3-7048f5fac576",
   "metadata": {},
   "outputs": [
    {
     "data": {
      "text/plain": [
       "{'cl9fgc6m14sb907z4blr37mjz': {'name': 'IOP annotation',\n",
       "  'labels': [{'label_kind': 'Default',\n",
       "    'version': '1.0.0',\n",
       "    'id': 'clblmed4z0gmo071q5wj51kiy',\n",
       "    'annotations': {'objects': [{'feature_id': 'clcq5lnwn0000356jke37eadh',\n",
       "       'feature_schema_id': 'clbd960k80mk808241f1d9wv3',\n",
       "       'name': 'Restorations',\n",
       "       'value': 'restorations',\n",
       "       'annotation_kind': 'ImageSegmentationMask',\n",
       "       'classifications': [],\n",
       "       'mask': {'url': 'https://api.labelbox.com/api/v1/projects/cl9fgc6m14sb907z4blr37mjz/annotations/clcq5lnwn0000356jke37eadh/mask'}}],\n",
       "     'classifications': [{'feature_id': 'clbmhajal0009356isp6y6t6t',\n",
       "       'feature_schema_id': 'ckzjp5m453iuo0z6m33j1eic6',\n",
       "       'name': 'Type of Dentition',\n",
       "       'value': 'type_of_dentition',\n",
       "       'dropdown_answer': {'feature_id': 'clbmhajal0008356ium1w6h3j',\n",
       "        'feature_schema_id': 'ckzjp5m453iup0z6mcdmuesph',\n",
       "        'name': 'Adult',\n",
       "        'value': 'adult',\n",
       "        'classifications': []}}],\n",
       "     'relationships': []}}],\n",
       "  'project_tags': [{'id': 'clenefuk600010ux74j069807',\n",
       "    'organization_id': 'ckzwxv07u0ukx0za6h42m9fk8',\n",
       "    'text': 'Migrated',\n",
       "    'color': '008856',\n",
       "    'created_at': '2023-02-27T22:36:14.000+00:00',\n",
       "    'updated_at': '2023-02-27T22:36:14.000+00:00',\n",
       "    'type': 'Migration'}]}}"
      ]
     },
     "execution_count": 7,
     "metadata": {},
     "output_type": "execute_result"
    }
   ],
   "source": [
    "data['projects'][1]"
   ]
  },
  {
   "attachments": {
    "7f98c57a-4273-4989-b1eb-1ca78d41b80b.png": {
     "image/png": "[encoded data removed]"
    }
   },
   "cell_type": "markdown",
   "id": "784fd019-03b5-49bb-9c8b-50f61064ac0b",
   "metadata": {},
   "source": [
    "The above code explores the contents of the json files, based on this the following database structure can be created and expanded for optimal storage of the data. By storing the data in these tables is allows for easy querying and updating as well\n",
    "\n",
    "![image.png](attachment:7f98c57a-4273-4989-b1eb-1ca78d41b80b.png)"
   ]
  },
  {
   "cell_type": "code",
   "execution_count": 8,
   "id": "f314898c-05b7-4806-be7b-947e54d5b951",
   "metadata": {},
   "outputs": [],
   "source": [
    "dataStructuredDF = pd.DataFrame(columns=['id', 'filename', 'uri', 'height', 'width', 'annotations'])"
   ]
  },
  {
   "cell_type": "code",
   "execution_count": 9,
   "id": "d6c86aac-b8bf-4071-9c50-06a8a10395aa",
   "metadata": {},
   "outputs": [],
   "source": [
    "for idx, row in data.iterrows():\n",
    "    new_row = {'id': row['data_row']['id'], 'filename': row['data_row']['external_id'], \n",
    "               'uri': row['data_row']['row_data'], 'height': row['media_attributes']['height'], \n",
    "               'width': row['media_attributes']['width'], 'annotations': row['projects']}\n",
    "    dataStructuredDF = pd.concat([dataStructuredDF, pd.DataFrame([new_row])], ignore_index=True)"
   ]
  },
  {
   "cell_type": "code",
   "execution_count": 10,
   "id": "10736af9-1aad-48c3-a555-a812dd0ca1f4",
   "metadata": {},
   "outputs": [
    {
     "data": {
      "text/html": [
       "<div>\n",
       "<style scoped>\n",
       "    .dataframe tbody tr th:only-of-type {\n",
       "        vertical-align: middle;\n",
       "    }\n",
       "\n",
       "    .dataframe tbody tr th {\n",
       "        vertical-align: top;\n",
       "    }\n",
       "\n",
       "    .dataframe thead th {\n",
       "        text-align: right;\n",
       "    }\n",
       "</style>\n",
       "<table border=\"1\" class=\"dataframe\">\n",
       "  <thead>\n",
       "    <tr style=\"text-align: right;\">\n",
       "      <th></th>\n",
       "      <th>id</th>\n",
       "      <th>filename</th>\n",
       "      <th>uri</th>\n",
       "      <th>height</th>\n",
       "      <th>width</th>\n",
       "      <th>annotations</th>\n",
       "    </tr>\n",
       "  </thead>\n",
       "  <tbody>\n",
       "    <tr>\n",
       "      <th>0</th>\n",
       "      <td>cl9zlwmzg12ma08b42nq122tp</td>\n",
       "      <td>IOP's/lopa_1_jpg_quality/IOPA (5874).jpg</td>\n",
       "      <td>https://x-rays.s3.us-east-2.amazonaws.com/IOP'...</td>\n",
       "      <td>276</td>\n",
       "      <td>183</td>\n",
       "      <td>{'cl9fgc6m14sb907z4blr37mjz': {'name': 'IOP an...</td>\n",
       "    </tr>\n",
       "    <tr>\n",
       "      <th>1</th>\n",
       "      <td>cl9zlwmzg12me08b4hhli1zd8</td>\n",
       "      <td>IOP's/lopa_1_jpg_quality/IOPA (6037).jpg</td>\n",
       "      <td>https://x-rays.s3.us-east-2.amazonaws.com/IOP'...</td>\n",
       "      <td>197</td>\n",
       "      <td>256</td>\n",
       "      <td>{'cl9fgc6m14sb907z4blr37mjz': {'name': 'IOP an...</td>\n",
       "    </tr>\n",
       "    <tr>\n",
       "      <th>2</th>\n",
       "      <td>cl9zlwmzg12mi08b41wsm2e70</td>\n",
       "      <td>IOP's/lopa_1_jpg_quality/IOPA (2645).jpg</td>\n",
       "      <td>https://x-rays.s3.us-east-2.amazonaws.com/IOP'...</td>\n",
       "      <td>265</td>\n",
       "      <td>190</td>\n",
       "      <td>{'cl9fgc6m14sb907z4blr37mjz': {'name': 'IOP an...</td>\n",
       "    </tr>\n",
       "    <tr>\n",
       "      <th>3</th>\n",
       "      <td>cl9zlwmzg12mm08b49ioi3s66</td>\n",
       "      <td>IOP's/lopa_1_jpg_quality/IOPA (5873).jpg</td>\n",
       "      <td>https://x-rays.s3.us-east-2.amazonaws.com/IOP'...</td>\n",
       "      <td>194</td>\n",
       "      <td>259</td>\n",
       "      <td>{'cl9fgc6m14sb907z4blr37mjz': {'name': 'IOP an...</td>\n",
       "    </tr>\n",
       "    <tr>\n",
       "      <th>4</th>\n",
       "      <td>cl9zlwmzg12mq08b4eh1a4xxh</td>\n",
       "      <td>IOP's/lopa_1_jpg_quality/IOPA (26659).jpg</td>\n",
       "      <td>https://x-rays.s3.us-east-2.amazonaws.com/IOP'...</td>\n",
       "      <td>255</td>\n",
       "      <td>198</td>\n",
       "      <td>{'cl9fgc6m14sb907z4blr37mjz': {'name': 'IOP an...</td>\n",
       "    </tr>\n",
       "  </tbody>\n",
       "</table>\n",
       "</div>"
      ],
      "text/plain": [
       "                          id                                   filename  \\\n",
       "0  cl9zlwmzg12ma08b42nq122tp   IOP's/lopa_1_jpg_quality/IOPA (5874).jpg   \n",
       "1  cl9zlwmzg12me08b4hhli1zd8   IOP's/lopa_1_jpg_quality/IOPA (6037).jpg   \n",
       "2  cl9zlwmzg12mi08b41wsm2e70   IOP's/lopa_1_jpg_quality/IOPA (2645).jpg   \n",
       "3  cl9zlwmzg12mm08b49ioi3s66   IOP's/lopa_1_jpg_quality/IOPA (5873).jpg   \n",
       "4  cl9zlwmzg12mq08b4eh1a4xxh  IOP's/lopa_1_jpg_quality/IOPA (26659).jpg   \n",
       "\n",
       "                                                 uri height width  \\\n",
       "0  https://x-rays.s3.us-east-2.amazonaws.com/IOP'...    276   183   \n",
       "1  https://x-rays.s3.us-east-2.amazonaws.com/IOP'...    197   256   \n",
       "2  https://x-rays.s3.us-east-2.amazonaws.com/IOP'...    265   190   \n",
       "3  https://x-rays.s3.us-east-2.amazonaws.com/IOP'...    194   259   \n",
       "4  https://x-rays.s3.us-east-2.amazonaws.com/IOP'...    255   198   \n",
       "\n",
       "                                         annotations  \n",
       "0  {'cl9fgc6m14sb907z4blr37mjz': {'name': 'IOP an...  \n",
       "1  {'cl9fgc6m14sb907z4blr37mjz': {'name': 'IOP an...  \n",
       "2  {'cl9fgc6m14sb907z4blr37mjz': {'name': 'IOP an...  \n",
       "3  {'cl9fgc6m14sb907z4blr37mjz': {'name': 'IOP an...  \n",
       "4  {'cl9fgc6m14sb907z4blr37mjz': {'name': 'IOP an...  "
      ]
     },
     "execution_count": 10,
     "metadata": {},
     "output_type": "execute_result"
    }
   ],
   "source": [
    "dataStructuredDF.head()"
   ]
  },
  {
   "cell_type": "code",
   "execution_count": 11,
   "id": "2c5979c1-53eb-4566-8f09-7b008c0cd41b",
   "metadata": {},
   "outputs": [
    {
     "data": {
      "text/plain": [
       "{'name': 'IOP annotation',\n",
       " 'labels': [{'label_kind': 'Default',\n",
       "   'version': '1.0.0',\n",
       "   'id': 'clblqrgxw01wg07z68iu9bas8',\n",
       "   'annotations': {'objects': [{'feature_id': 'clchi2m210001356j4rfwpipu',\n",
       "      'feature_schema_id': 'clbd960k80mk608242eko19ww',\n",
       "      'name': 'Bone Loss',\n",
       "      'value': 'bone_loss',\n",
       "      'annotation_kind': 'ImageSegmentationMask',\n",
       "      'classifications': [],\n",
       "      'mask': {'url': 'https://api.labelbox.com/api/v1/projects/cl9fgc6m14sb907z4blr37mjz/annotations/clchi2m210001356j4rfwpipu/mask'}},\n",
       "     {'feature_id': 'clchi4baa0005356j9jj7ydqr',\n",
       "      'feature_schema_id': 'clbd960k80mk608242eko19ww',\n",
       "      'name': 'Bone Loss',\n",
       "      'value': 'bone_loss',\n",
       "      'annotation_kind': 'ImageSegmentationMask',\n",
       "      'classifications': [],\n",
       "      'mask': {'url': 'https://api.labelbox.com/api/v1/projects/cl9fgc6m14sb907z4blr37mjz/annotations/clchi4baa0005356j9jj7ydqr/mask'}}],\n",
       "    'classifications': [{'feature_id': 'clblqt101000b356imnm3ct0q',\n",
       "      'feature_schema_id': 'ckzjp5m453iuo0z6m33j1eic6',\n",
       "      'name': 'Type of Dentition',\n",
       "      'value': 'type_of_dentition',\n",
       "      'dropdown_answer': {'feature_id': 'clblqt101000a356ij4hbw8nm',\n",
       "       'feature_schema_id': 'ckzjp5m453iup0z6mcdmuesph',\n",
       "       'name': 'Adult',\n",
       "       'value': 'adult',\n",
       "       'classifications': []}}],\n",
       "    'relationships': []}}],\n",
       " 'project_tags': [{'id': 'clenefuk600010ux74j069807',\n",
       "   'organization_id': 'ckzwxv07u0ukx0za6h42m9fk8',\n",
       "   'text': 'Migrated',\n",
       "   'color': '008856',\n",
       "   'created_at': '2023-02-27T22:36:14.000+00:00',\n",
       "   'updated_at': '2023-02-27T22:36:14.000+00:00',\n",
       "   'type': 'Migration'}]}"
      ]
     },
     "execution_count": 11,
     "metadata": {},
     "output_type": "execute_result"
    }
   ],
   "source": [
    "dataStructuredDF['annotations'][0][list(dataStructuredDF['annotations'][0].keys())[0]]"
   ]
  },
  {
   "cell_type": "markdown",
   "id": "62e08b84-5cb5-471c-9741-9faa1318b921",
   "metadata": {},
   "source": [
    "### Creation of Tables\n",
    "\n",
    "Now that the data is accessible the tables for the above structure can be created.\n",
    "\n",
    "The images table is already there as the annotations column can be dropped. Also there is a link to the image with the URI column, however, that requires an access key to the AWS account where the data is stored. For this project a local copy of the dataset will be used with the same filenames available, so the uri column can be dropped."
   ]
  },
  {
   "cell_type": "code",
   "execution_count": 12,
   "id": "5835db99-5c6f-4fae-b4e8-04491274c076",
   "metadata": {},
   "outputs": [],
   "source": [
    "images = dataStructuredDF.drop(columns=['annotations', 'uri'])\n",
    "projectID = list(dataStructuredDF['annotations'][0].keys())[0]\n",
    "projectName = dataStructuredDF['annotations'][0][projectID]['name']\n",
    "projects = pd.DataFrame([{'id': projectID, 'name' : projectName}])\n",
    "annotations = pd.DataFrame(columns = ['id', 'type', 'name', 'value', 'projectID', 'imageID'])"
   ]
  },
  {
   "cell_type": "code",
   "execution_count": 13,
   "id": "0969675d-a27e-45d7-8377-b73f969430d4",
   "metadata": {},
   "outputs": [
    {
     "data": {
      "text/html": [
       "<div>\n",
       "<style scoped>\n",
       "    .dataframe tbody tr th:only-of-type {\n",
       "        vertical-align: middle;\n",
       "    }\n",
       "\n",
       "    .dataframe tbody tr th {\n",
       "        vertical-align: top;\n",
       "    }\n",
       "\n",
       "    .dataframe thead th {\n",
       "        text-align: right;\n",
       "    }\n",
       "</style>\n",
       "<table border=\"1\" class=\"dataframe\">\n",
       "  <thead>\n",
       "    <tr style=\"text-align: right;\">\n",
       "      <th></th>\n",
       "      <th>id</th>\n",
       "      <th>filename</th>\n",
       "      <th>height</th>\n",
       "      <th>width</th>\n",
       "    </tr>\n",
       "  </thead>\n",
       "  <tbody>\n",
       "    <tr>\n",
       "      <th>0</th>\n",
       "      <td>cl9zlwmzg12ma08b42nq122tp</td>\n",
       "      <td>IOP's/lopa_1_jpg_quality/IOPA (5874).jpg</td>\n",
       "      <td>276</td>\n",
       "      <td>183</td>\n",
       "    </tr>\n",
       "    <tr>\n",
       "      <th>1</th>\n",
       "      <td>cl9zlwmzg12me08b4hhli1zd8</td>\n",
       "      <td>IOP's/lopa_1_jpg_quality/IOPA (6037).jpg</td>\n",
       "      <td>197</td>\n",
       "      <td>256</td>\n",
       "    </tr>\n",
       "    <tr>\n",
       "      <th>2</th>\n",
       "      <td>cl9zlwmzg12mi08b41wsm2e70</td>\n",
       "      <td>IOP's/lopa_1_jpg_quality/IOPA (2645).jpg</td>\n",
       "      <td>265</td>\n",
       "      <td>190</td>\n",
       "    </tr>\n",
       "    <tr>\n",
       "      <th>3</th>\n",
       "      <td>cl9zlwmzg12mm08b49ioi3s66</td>\n",
       "      <td>IOP's/lopa_1_jpg_quality/IOPA (5873).jpg</td>\n",
       "      <td>194</td>\n",
       "      <td>259</td>\n",
       "    </tr>\n",
       "    <tr>\n",
       "      <th>4</th>\n",
       "      <td>cl9zlwmzg12mq08b4eh1a4xxh</td>\n",
       "      <td>IOP's/lopa_1_jpg_quality/IOPA (26659).jpg</td>\n",
       "      <td>255</td>\n",
       "      <td>198</td>\n",
       "    </tr>\n",
       "  </tbody>\n",
       "</table>\n",
       "</div>"
      ],
      "text/plain": [
       "                          id                                   filename  \\\n",
       "0  cl9zlwmzg12ma08b42nq122tp   IOP's/lopa_1_jpg_quality/IOPA (5874).jpg   \n",
       "1  cl9zlwmzg12me08b4hhli1zd8   IOP's/lopa_1_jpg_quality/IOPA (6037).jpg   \n",
       "2  cl9zlwmzg12mi08b41wsm2e70   IOP's/lopa_1_jpg_quality/IOPA (2645).jpg   \n",
       "3  cl9zlwmzg12mm08b49ioi3s66   IOP's/lopa_1_jpg_quality/IOPA (5873).jpg   \n",
       "4  cl9zlwmzg12mq08b4eh1a4xxh  IOP's/lopa_1_jpg_quality/IOPA (26659).jpg   \n",
       "\n",
       "  height width  \n",
       "0    276   183  \n",
       "1    197   256  \n",
       "2    265   190  \n",
       "3    194   259  \n",
       "4    255   198  "
      ]
     },
     "execution_count": 13,
     "metadata": {},
     "output_type": "execute_result"
    }
   ],
   "source": [
    "images.head()"
   ]
  },
  {
   "cell_type": "code",
   "execution_count": 14,
   "id": "37071cfd-7bef-4615-82c8-e34e99773380",
   "metadata": {},
   "outputs": [
    {
     "data": {
      "text/html": [
       "<div>\n",
       "<style scoped>\n",
       "    .dataframe tbody tr th:only-of-type {\n",
       "        vertical-align: middle;\n",
       "    }\n",
       "\n",
       "    .dataframe tbody tr th {\n",
       "        vertical-align: top;\n",
       "    }\n",
       "\n",
       "    .dataframe thead th {\n",
       "        text-align: right;\n",
       "    }\n",
       "</style>\n",
       "<table border=\"1\" class=\"dataframe\">\n",
       "  <thead>\n",
       "    <tr style=\"text-align: right;\">\n",
       "      <th></th>\n",
       "      <th>id</th>\n",
       "      <th>name</th>\n",
       "    </tr>\n",
       "  </thead>\n",
       "  <tbody>\n",
       "    <tr>\n",
       "      <th>0</th>\n",
       "      <td>cl9fgc6m14sb907z4blr37mjz</td>\n",
       "      <td>IOP annotation</td>\n",
       "    </tr>\n",
       "  </tbody>\n",
       "</table>\n",
       "</div>"
      ],
      "text/plain": [
       "                          id            name\n",
       "0  cl9fgc6m14sb907z4blr37mjz  IOP annotation"
      ]
     },
     "execution_count": 14,
     "metadata": {},
     "output_type": "execute_result"
    }
   ],
   "source": [
    "projects.head()"
   ]
  },
  {
   "cell_type": "code",
   "execution_count": 15,
   "id": "a050e219-25a2-4cee-9ad9-71aada7f0cd8",
   "metadata": {},
   "outputs": [],
   "source": [
    "#iterate over the images and each of their annotations to build the annotation table\n",
    "for idx, row in dataStructuredDF.iterrows():\n",
    "    for ann in row['annotations']['cl9fgc6m14sb907z4blr37mjz']['labels']:\n",
    "        for obj in ann['annotations']['objects']:\n",
    "            df = pd.DataFrame([{\n",
    "                'id' : obj['feature_id'],\n",
    "                'type' : 'segmentation',\n",
    "                'name' : obj['name'],\n",
    "                'value' : obj['mask']['url'],\n",
    "                'projectID': projectID,\n",
    "                'imageID' : row['id'],\n",
    "            }])\n",
    "            annotations = pd.concat([annotations, df], ignore_index=True)\n",
    "        for clf in ann['annotations']['classifications']:\n",
    "            df = pd.DataFrame([{\n",
    "                'id' : clf['feature_id'],\n",
    "                'type' : 'calssification',\n",
    "                'name' : clf['name'],\n",
    "                'value' : clf['dropdown_answer']['value'],\n",
    "                'projectID': projectID,\n",
    "                'imageID' : row['id'],\n",
    "            }])\n",
    "            annotations = pd.concat([annotations, df], ignore_index=True)\n"
   ]
  },
  {
   "cell_type": "code",
   "execution_count": 16,
   "id": "8d2650e3-d88c-49cb-8b4f-a4f2dbde863d",
   "metadata": {},
   "outputs": [
    {
     "data": {
      "text/html": [
       "<div>\n",
       "<style scoped>\n",
       "    .dataframe tbody tr th:only-of-type {\n",
       "        vertical-align: middle;\n",
       "    }\n",
       "\n",
       "    .dataframe tbody tr th {\n",
       "        vertical-align: top;\n",
       "    }\n",
       "\n",
       "    .dataframe thead th {\n",
       "        text-align: right;\n",
       "    }\n",
       "</style>\n",
       "<table border=\"1\" class=\"dataframe\">\n",
       "  <thead>\n",
       "    <tr style=\"text-align: right;\">\n",
       "      <th></th>\n",
       "      <th>id</th>\n",
       "      <th>type</th>\n",
       "      <th>name</th>\n",
       "      <th>value</th>\n",
       "      <th>projectID</th>\n",
       "      <th>imageID</th>\n",
       "    </tr>\n",
       "  </thead>\n",
       "  <tbody>\n",
       "    <tr>\n",
       "      <th>0</th>\n",
       "      <td>clchi2m210001356j4rfwpipu</td>\n",
       "      <td>segmentation</td>\n",
       "      <td>Bone Loss</td>\n",
       "      <td>https://api.labelbox.com/api/v1/projects/cl9fg...</td>\n",
       "      <td>cl9fgc6m14sb907z4blr37mjz</td>\n",
       "      <td>cl9zlwmzg12ma08b42nq122tp</td>\n",
       "    </tr>\n",
       "    <tr>\n",
       "      <th>1</th>\n",
       "      <td>clchi4baa0005356j9jj7ydqr</td>\n",
       "      <td>segmentation</td>\n",
       "      <td>Bone Loss</td>\n",
       "      <td>https://api.labelbox.com/api/v1/projects/cl9fg...</td>\n",
       "      <td>cl9fgc6m14sb907z4blr37mjz</td>\n",
       "      <td>cl9zlwmzg12ma08b42nq122tp</td>\n",
       "    </tr>\n",
       "    <tr>\n",
       "      <th>2</th>\n",
       "      <td>clblqt101000b356imnm3ct0q</td>\n",
       "      <td>calssification</td>\n",
       "      <td>Type of Dentition</td>\n",
       "      <td>adult</td>\n",
       "      <td>cl9fgc6m14sb907z4blr37mjz</td>\n",
       "      <td>cl9zlwmzg12ma08b42nq122tp</td>\n",
       "    </tr>\n",
       "    <tr>\n",
       "      <th>3</th>\n",
       "      <td>clcq5lnwn0000356jke37eadh</td>\n",
       "      <td>segmentation</td>\n",
       "      <td>Restorations</td>\n",
       "      <td>https://api.labelbox.com/api/v1/projects/cl9fg...</td>\n",
       "      <td>cl9fgc6m14sb907z4blr37mjz</td>\n",
       "      <td>cl9zlwmzg12me08b4hhli1zd8</td>\n",
       "    </tr>\n",
       "    <tr>\n",
       "      <th>4</th>\n",
       "      <td>clbmhajal0009356isp6y6t6t</td>\n",
       "      <td>calssification</td>\n",
       "      <td>Type of Dentition</td>\n",
       "      <td>adult</td>\n",
       "      <td>cl9fgc6m14sb907z4blr37mjz</td>\n",
       "      <td>cl9zlwmzg12me08b4hhli1zd8</td>\n",
       "    </tr>\n",
       "  </tbody>\n",
       "</table>\n",
       "</div>"
      ],
      "text/plain": [
       "                          id            type               name  \\\n",
       "0  clchi2m210001356j4rfwpipu    segmentation          Bone Loss   \n",
       "1  clchi4baa0005356j9jj7ydqr    segmentation          Bone Loss   \n",
       "2  clblqt101000b356imnm3ct0q  calssification  Type of Dentition   \n",
       "3  clcq5lnwn0000356jke37eadh    segmentation       Restorations   \n",
       "4  clbmhajal0009356isp6y6t6t  calssification  Type of Dentition   \n",
       "\n",
       "                                               value  \\\n",
       "0  https://api.labelbox.com/api/v1/projects/cl9fg...   \n",
       "1  https://api.labelbox.com/api/v1/projects/cl9fg...   \n",
       "2                                              adult   \n",
       "3  https://api.labelbox.com/api/v1/projects/cl9fg...   \n",
       "4                                              adult   \n",
       "\n",
       "                   projectID                    imageID  \n",
       "0  cl9fgc6m14sb907z4blr37mjz  cl9zlwmzg12ma08b42nq122tp  \n",
       "1  cl9fgc6m14sb907z4blr37mjz  cl9zlwmzg12ma08b42nq122tp  \n",
       "2  cl9fgc6m14sb907z4blr37mjz  cl9zlwmzg12ma08b42nq122tp  \n",
       "3  cl9fgc6m14sb907z4blr37mjz  cl9zlwmzg12me08b4hhli1zd8  \n",
       "4  cl9fgc6m14sb907z4blr37mjz  cl9zlwmzg12me08b4hhli1zd8  "
      ]
     },
     "execution_count": 16,
     "metadata": {},
     "output_type": "execute_result"
    }
   ],
   "source": [
    "annotations.head()"
   ]
  },
  {
   "cell_type": "markdown",
   "id": "c8f497b1-45ed-472b-a3d5-38e61182c6c9",
   "metadata": {},
   "source": [
    "With all 3 tables built and verrified, it can be exported into a sql lite database which is easy to implement in python, the database will be stored in a local file which can be accessed from other notebooks as well."
   ]
  },
  {
   "cell_type": "code",
   "execution_count": 17,
   "id": "090e5377-5bc1-4af9-ab5c-4e54518dbdc8",
   "metadata": {},
   "outputs": [],
   "source": [
    "import sqlite3"
   ]
  },
  {
   "cell_type": "code",
   "execution_count": 18,
   "id": "012ee427-bee9-4f26-81b2-6658b728d77e",
   "metadata": {},
   "outputs": [],
   "source": [
    "conn = sqlite3.connect('dataset.db')"
   ]
  },
  {
   "cell_type": "code",
   "execution_count": 19,
   "id": "3bf5bdbf-8b6b-473b-bd29-988cae61f731",
   "metadata": {},
   "outputs": [
    {
     "data": {
      "text/plain": [
       "166986"
      ]
     },
     "execution_count": 19,
     "metadata": {},
     "output_type": "execute_result"
    }
   ],
   "source": [
    "images.to_sql('images', conn, if_exists='replace', index=False)\n",
    "projects.to_sql('projects', conn, if_exists='replace', index=False)\n",
    "annotations.to_sql('annotations', conn, if_exists='replace', index=False)"
   ]
  }
 ],
 "metadata": {
  "kernelspec": {
   "display_name": "Python 3 (ipykernel)",
   "language": "python",
   "name": "python3"
  },
  "language_info": {
   "codemirror_mode": {
    "name": "ipython",
    "version": 3
   },
   "file_extension": ".py",
   "mimetype": "text/x-python",
   "name": "python",
   "nbconvert_exporter": "python",
   "pygments_lexer": "ipython3",
   "version": "3.12.3"
  }
 },
 "nbformat": 4,
 "nbformat_minor": 5
}
